{
 "cells": [
  {
   "cell_type": "code",
   "execution_count": 2,
   "id": "6ba44e02-eb48-403a-bea1-2e6cd213d88f",
   "metadata": {},
   "outputs": [],
   "source": [
    "import pandas as pd\n",
    "import scanpy as sc\n",
    "import scib"
   ]
  },
  {
   "cell_type": "code",
   "execution_count": 3,
   "id": "ca47573d-275a-4476-8513-c8ebd439caad",
   "metadata": {},
   "outputs": [],
   "source": [
    "base_dir = \"/Users/putri.g/Documents/GitHub/SuperCellCyto-analysis/output/trussart_cytofruv/20240111\""
   ]
  },
  {
   "cell_type": "code",
   "execution_count": 4,
   "id": "6ca9860d",
   "metadata": {},
   "outputs": [],
   "source": [
    "uncorrected_adata = sc.read_h5ad(base_dir + \"/supercells_uncorrected_clustered.h5ad\")\n",
    "cycombine_adata = sc.read_h5ad(base_dir + \"/supercells_cycombine_clustered.h5ad\")\n",
    "cytofruv_adata = sc.read_h5ad(base_dir + \"/supercells_cytofruv_clustered.h5ad\")"
   ]
  },
  {
   "cell_type": "code",
   "execution_count": 5,
   "id": "9c504c97",
   "metadata": {},
   "outputs": [
    {
     "data": {
      "text/plain": [
       "AnnData object with n_obs × n_vars = 429488 × 31\n",
       "    obs: 'sample_id', 'condition', 'patient_id', 'batch', 'FlowSOM_cluster', 'FlowSOM_metacluster'\n",
       "    var: 'fcs_colname', 'antigen', 'marker_class'\n",
       "    uns: 'neighbors', 'pca'\n",
       "    obsm: 'X_pca'\n",
       "    varm: 'PCs'\n",
       "    obsp: 'connectivities', 'distances'"
      ]
     },
     "execution_count": 5,
     "metadata": {},
     "output_type": "execute_result"
    }
   ],
   "source": [
    "uncorrected_adata"
   ]
  },
  {
   "cell_type": "code",
   "execution_count": 6,
   "id": "b7d4c723",
   "metadata": {},
   "outputs": [
    {
     "data": {
      "text/plain": [
       "AnnData object with n_obs × n_vars = 429488 × 31\n",
       "    obs: 'sample', 'condition', 'patient_id', 'batch', 'FlowSOM_cluster', 'FlowSOM_metacluster'\n",
       "    var: 'fcs_colname', 'antigen', 'marker_class'\n",
       "    uns: 'neighbors', 'pca'\n",
       "    obsm: 'X_pca'\n",
       "    varm: 'PCs'\n",
       "    obsp: 'connectivities', 'distances'"
      ]
     },
     "execution_count": 6,
     "metadata": {},
     "output_type": "execute_result"
    }
   ],
   "source": [
    "cycombine_adata"
   ]
  },
  {
   "cell_type": "code",
   "execution_count": 7,
   "id": "7875fd3c",
   "metadata": {},
   "outputs": [
    {
     "data": {
      "text/plain": [
       "AnnData object with n_obs × n_vars = 429488 × 31\n",
       "    obs: 'sample_id', 'condition', 'patient_id', 'batch', 'FlowSOM_cluster', 'FlowSOM_metacluster'\n",
       "    var: 'fcs_colname', 'antigen', 'marker_class'\n",
       "    uns: 'neighbors', 'pca'\n",
       "    obsm: 'X_pca'\n",
       "    varm: 'PCs'\n",
       "    obsp: 'connectivities', 'distances'"
      ]
     },
     "execution_count": 7,
     "metadata": {},
     "output_type": "execute_result"
    }
   ],
   "source": [
    "cytofruv_adata"
   ]
  },
  {
   "cell_type": "markdown",
   "id": "267315cd",
   "metadata": {},
   "source": [
    "# Actual assessment"
   ]
  },
  {
   "cell_type": "code",
   "execution_count": 8,
   "id": "f665fe9c",
   "metadata": {},
   "outputs": [],
   "source": [
    "metrics_scores = {\n",
    "    \"uncorrected\": {},\n",
    "    \"cycombine\": {},\n",
    "    \"cytofruv\": {}\n",
    "}"
   ]
  },
  {
   "cell_type": "code",
   "execution_count": 9,
   "id": "81572eea",
   "metadata": {},
   "outputs": [
    {
     "data": {
      "text/plain": [
       "{'uncorrected': {}, 'cycombine': {}, 'cytofruv': {}}"
      ]
     },
     "execution_count": 9,
     "metadata": {},
     "output_type": "execute_result"
    }
   ],
   "source": [
    "metrics_scores"
   ]
  },
  {
   "cell_type": "code",
   "execution_count": 10,
   "id": "296825e6",
   "metadata": {},
   "outputs": [
    {
     "data": {
      "text/plain": [
       "{'uncorrected': {'silhouette': 0.6029170677065849},\n",
       " 'cycombine': {'silhouette': 0.6218346208333969},\n",
       " 'cytofruv': {'silhouette': 0.6750191301107407}}"
      ]
     },
     "execution_count": 10,
     "metadata": {},
     "output_type": "execute_result"
    }
   ],
   "source": [
    "metrics_scores['uncorrected']['silhouette'] = scib.metrics.silhouette(uncorrected_adata, label_key=\"FlowSOM_metacluster\", embed=\"X_pca\")\n",
    "metrics_scores['cytofruv']['silhouette'] = scib.metrics.silhouette(cytofruv_adata, label_key=\"FlowSOM_metacluster\", embed=\"X_pca\")\n",
    "metrics_scores['cycombine']['silhouette'] = scib.metrics.silhouette(cycombine_adata, label_key=\"FlowSOM_metacluster\", embed=\"X_pca\")\n",
    "metrics_scores"
   ]
  },
  {
   "cell_type": "markdown",
   "id": "e0cf4d3e",
   "metadata": {},
   "source": [
    "Actually, we can use the re-clustered data (post-correction) to calculate NMI and ARI.\n",
    "So, if we use the clustered data prior to correction as the label key, and the re-clustered data as the cluster key, we can compute NMI and ARI..."
   ]
  },
  {
   "cell_type": "code",
   "execution_count": 11,
   "id": "f309c699",
   "metadata": {},
   "outputs": [],
   "source": [
    "# Make sure this print nothing before running the cell below!\n",
    "for i in range(uncorrected_adata.shape[0]):\n",
    "    if uncorrected_adata.obs.index[i] != cytofruv_adata.obs.index[i]:\n",
    "        print(i)\n",
    "    if uncorrected_adata.obs.index[i] != cycombine_adata.obs.index[i]:\n",
    "        print(i)"
   ]
  },
  {
   "cell_type": "code",
   "execution_count": 12,
   "id": "434a8723",
   "metadata": {},
   "outputs": [],
   "source": [
    "cytofruv_adata.obs[\"FlowSOM_metacluster_from_uncorrected\"] = uncorrected_adata.obs[\"FlowSOM_metacluster\"]\n",
    "cycombine_adata.obs[\"FlowSOM_metacluster_from_uncorrected\"] = uncorrected_adata.obs[\"FlowSOM_metacluster\"]"
   ]
  },
  {
   "cell_type": "code",
   "execution_count": 13,
   "id": "225f556f",
   "metadata": {},
   "outputs": [
    {
     "data": {
      "text/plain": [
       "{'uncorrected': {'silhouette': 0.6029170677065849},\n",
       " 'cycombine': {'silhouette': 0.6218346208333969, 'NMI': 0.8265218357083224},\n",
       " 'cytofruv': {'silhouette': 0.6750191301107407, 'NMI': 0.7769091032573271}}"
      ]
     },
     "execution_count": 13,
     "metadata": {},
     "output_type": "execute_result"
    }
   ],
   "source": [
    "metrics_scores['cytofruv']['NMI'] = scib.metrics.nmi(cytofruv_adata, label_key=\"FlowSOM_metacluster_from_uncorrected\", cluster_key=\"FlowSOM_metacluster\")\n",
    "metrics_scores['cycombine']['NMI'] = scib.metrics.nmi(cycombine_adata, label_key=\"FlowSOM_metacluster_from_uncorrected\", cluster_key=\"FlowSOM_metacluster\")\n",
    "metrics_scores"
   ]
  },
  {
   "cell_type": "code",
   "execution_count": 14,
   "id": "3e0d3c3e",
   "metadata": {},
   "outputs": [
    {
     "data": {
      "text/plain": [
       "{'uncorrected': {'silhouette': 0.6029170677065849},\n",
       " 'cycombine': {'silhouette': 0.6218346208333969,\n",
       "  'NMI': 0.8265218357083224,\n",
       "  'ARI': 0.8989028785435254},\n",
       " 'cytofruv': {'silhouette': 0.6750191301107407,\n",
       "  'NMI': 0.7769091032573271,\n",
       "  'ARI': 0.8721639323250747}}"
      ]
     },
     "execution_count": 14,
     "metadata": {},
     "output_type": "execute_result"
    }
   ],
   "source": [
    "metrics_scores['cytofruv']['ARI'] = scib.metrics.ari(cytofruv_adata, label_key=\"FlowSOM_metacluster_from_uncorrected\", cluster_key=\"FlowSOM_metacluster\", implementation=\"sklearn\")\n",
    "metrics_scores['cycombine']['ARI'] = scib.metrics.ari(cycombine_adata, label_key=\"FlowSOM_metacluster_from_uncorrected\", cluster_key=\"FlowSOM_metacluster\", implementation=\"sklearn\")\n",
    "metrics_scores"
   ]
  },
  {
   "cell_type": "code",
   "execution_count": 15,
   "id": "5843bee1",
   "metadata": {},
   "outputs": [],
   "source": [
    "pd.DataFrame(metrics_scores).to_csv(base_dir + \"/bio_conservation_metrics.csv\")"
   ]
  },
  {
   "cell_type": "markdown",
   "id": "21229a2b",
   "metadata": {},
   "source": [
    "Isolated labels F1 scores take too long to measure.. perhaps not the best for cytometry data."
   ]
  }
 ],
 "metadata": {
  "kernelspec": {
   "display_name": "Python 3 (ipykernel)",
   "language": "python",
   "name": "python3"
  },
  "language_info": {
   "codemirror_mode": {
    "name": "ipython",
    "version": 3
   },
   "file_extension": ".py",
   "mimetype": "text/x-python",
   "name": "python",
   "nbconvert_exporter": "python",
   "pygments_lexer": "ipython3",
   "version": "3.11.7"
  }
 },
 "nbformat": 4,
 "nbformat_minor": 5
}
